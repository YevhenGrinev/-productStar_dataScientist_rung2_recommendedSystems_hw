{
 "cells": [
  {
   "cell_type": "markdown",
   "metadata": {},
   "source": [
    "# Рекомендательные системы. Матричные разложения"
   ]
  },
  {
   "cell_type": "markdown",
   "metadata": {},
   "source": [
    "> На этом практическом занятии мы с вами сделаем следующее:\n",
    "- Обсудим как работает SVD.\n",
    "- Построим рекомендательную систему на основе метода ALS.\n",
    "- Сделаем рекомендации пользователям на основании построенной модели."
   ]
  },
  {
   "cell_type": "code",
   "execution_count": 3,
   "metadata": {},
   "outputs": [],
   "source": [
    "import pandas as pd\n",
    "import numpy as np\n",
    "import random\n",
    "from sklearn.model_selection import train_test_split"
   ]
  },
  {
   "cell_type": "markdown",
   "metadata": {},
   "source": [
    "\n",
    "## Load dataset"
   ]
  },
  {
   "cell_type": "markdown",
   "metadata": {},
   "source": [
    "Мы будем использовать тот же датасет из прошлого урока - MovieLens."
   ]
  },
  {
   "cell_type": "code",
   "execution_count": 4,
   "metadata": {},
   "outputs": [],
   "source": [
    "df_ratings = pd.read_csv(\"ml-latest-small/ratings.csv\")\n",
    "df_movies = pd.read_csv(\"ml-latest-small/movies.csv\")"
   ]
  },
  {
   "cell_type": "code",
   "execution_count": 5,
   "metadata": {},
   "outputs": [
    {
     "data": {
      "text/html": [
       "<div>\n",
       "<style scoped>\n",
       "    .dataframe tbody tr th:only-of-type {\n",
       "        vertical-align: middle;\n",
       "    }\n",
       "\n",
       "    .dataframe tbody tr th {\n",
       "        vertical-align: top;\n",
       "    }\n",
       "\n",
       "    .dataframe thead th {\n",
       "        text-align: right;\n",
       "    }\n",
       "</style>\n",
       "<table border=\"1\" class=\"dataframe\">\n",
       "  <thead>\n",
       "    <tr style=\"text-align: right;\">\n",
       "      <th></th>\n",
       "      <th>userId</th>\n",
       "      <th>movieId</th>\n",
       "      <th>rating</th>\n",
       "      <th>timestamp</th>\n",
       "    </tr>\n",
       "  </thead>\n",
       "  <tbody>\n",
       "    <tr>\n",
       "      <th>0</th>\n",
       "      <td>1</td>\n",
       "      <td>1</td>\n",
       "      <td>4.0</td>\n",
       "      <td>964982703</td>\n",
       "    </tr>\n",
       "    <tr>\n",
       "      <th>1</th>\n",
       "      <td>1</td>\n",
       "      <td>3</td>\n",
       "      <td>4.0</td>\n",
       "      <td>964981247</td>\n",
       "    </tr>\n",
       "    <tr>\n",
       "      <th>2</th>\n",
       "      <td>1</td>\n",
       "      <td>6</td>\n",
       "      <td>4.0</td>\n",
       "      <td>964982224</td>\n",
       "    </tr>\n",
       "    <tr>\n",
       "      <th>3</th>\n",
       "      <td>1</td>\n",
       "      <td>47</td>\n",
       "      <td>5.0</td>\n",
       "      <td>964983815</td>\n",
       "    </tr>\n",
       "    <tr>\n",
       "      <th>4</th>\n",
       "      <td>1</td>\n",
       "      <td>50</td>\n",
       "      <td>5.0</td>\n",
       "      <td>964982931</td>\n",
       "    </tr>\n",
       "  </tbody>\n",
       "</table>\n",
       "</div>"
      ],
      "text/plain": [
       "   userId  movieId  rating  timestamp\n",
       "0       1        1     4.0  964982703\n",
       "1       1        3     4.0  964981247\n",
       "2       1        6     4.0  964982224\n",
       "3       1       47     5.0  964983815\n",
       "4       1       50     5.0  964982931"
      ]
     },
     "execution_count": 5,
     "metadata": {},
     "output_type": "execute_result"
    }
   ],
   "source": [
    "df_ratings.head()"
   ]
  },
  {
   "cell_type": "code",
   "execution_count": 6,
   "metadata": {},
   "outputs": [
    {
     "data": {
      "text/html": [
       "<div>\n",
       "<style scoped>\n",
       "    .dataframe tbody tr th:only-of-type {\n",
       "        vertical-align: middle;\n",
       "    }\n",
       "\n",
       "    .dataframe tbody tr th {\n",
       "        vertical-align: top;\n",
       "    }\n",
       "\n",
       "    .dataframe thead th {\n",
       "        text-align: right;\n",
       "    }\n",
       "</style>\n",
       "<table border=\"1\" class=\"dataframe\">\n",
       "  <thead>\n",
       "    <tr style=\"text-align: right;\">\n",
       "      <th></th>\n",
       "      <th>movieId</th>\n",
       "      <th>title</th>\n",
       "      <th>genres</th>\n",
       "    </tr>\n",
       "  </thead>\n",
       "  <tbody>\n",
       "    <tr>\n",
       "      <th>0</th>\n",
       "      <td>1</td>\n",
       "      <td>Toy Story (1995)</td>\n",
       "      <td>Adventure|Animation|Children|Comedy|Fantasy</td>\n",
       "    </tr>\n",
       "    <tr>\n",
       "      <th>1</th>\n",
       "      <td>2</td>\n",
       "      <td>Jumanji (1995)</td>\n",
       "      <td>Adventure|Children|Fantasy</td>\n",
       "    </tr>\n",
       "    <tr>\n",
       "      <th>2</th>\n",
       "      <td>3</td>\n",
       "      <td>Grumpier Old Men (1995)</td>\n",
       "      <td>Comedy|Romance</td>\n",
       "    </tr>\n",
       "    <tr>\n",
       "      <th>3</th>\n",
       "      <td>4</td>\n",
       "      <td>Waiting to Exhale (1995)</td>\n",
       "      <td>Comedy|Drama|Romance</td>\n",
       "    </tr>\n",
       "    <tr>\n",
       "      <th>4</th>\n",
       "      <td>5</td>\n",
       "      <td>Father of the Bride Part II (1995)</td>\n",
       "      <td>Comedy</td>\n",
       "    </tr>\n",
       "  </tbody>\n",
       "</table>\n",
       "</div>"
      ],
      "text/plain": [
       "   movieId                               title  \\\n",
       "0        1                    Toy Story (1995)   \n",
       "1        2                      Jumanji (1995)   \n",
       "2        3             Grumpier Old Men (1995)   \n",
       "3        4            Waiting to Exhale (1995)   \n",
       "4        5  Father of the Bride Part II (1995)   \n",
       "\n",
       "                                        genres  \n",
       "0  Adventure|Animation|Children|Comedy|Fantasy  \n",
       "1                   Adventure|Children|Fantasy  \n",
       "2                               Comedy|Romance  \n",
       "3                         Comedy|Drama|Romance  \n",
       "4                                       Comedy  "
      ]
     },
     "execution_count": 6,
     "metadata": {},
     "output_type": "execute_result"
    }
   ],
   "source": [
    "df_movies.head()"
   ]
  },
  {
   "cell_type": "markdown",
   "metadata": {},
   "source": [
    "### SVD"
   ]
  },
  {
   "cell_type": "code",
   "execution_count": 7,
   "metadata": {},
   "outputs": [],
   "source": [
    "from scipy.linalg import svd"
   ]
  },
  {
   "cell_type": "code",
   "execution_count": 8,
   "metadata": {},
   "outputs": [
    {
     "name": "stdout",
     "output_type": "stream",
     "text": [
      "[[1 2]\n",
      " [3 4]\n",
      " [5 6]]\n"
     ]
    }
   ],
   "source": [
    "# define a matrix\n",
    "A = np.array([[1, 2], [3, 4], [5, 6]]) #np.nan\n",
    "print(A)"
   ]
  },
  {
   "cell_type": "code",
   "execution_count": 9,
   "metadata": {},
   "outputs": [
    {
     "name": "stdout",
     "output_type": "stream",
     "text": [
      "Unitary matrix having left singular vectors as columns: \n",
      " [[-0.2298477   0.88346102  0.40824829]\n",
      " [-0.52474482  0.24078249 -0.81649658]\n",
      " [-0.81964194 -0.40189603  0.40824829]]\n",
      "Singular values: \n",
      " [9.52551809 0.51430058]\n",
      "Unitary matrix having right singular vectors as rows: \n",
      " [[-0.61962948 -0.78489445]\n",
      " [-0.78489445  0.61962948]]\n"
     ]
    }
   ],
   "source": [
    "# SVD\n",
    "U, s, VT = svd(A) # Factorizes the matrix a into two unitary matrices U and VT, and a 1-D array s of singular values (real, non-negative) such that a == U @ S @ Vh, where S is a suitably shaped matrix of zeros with main diagonal s\n",
    "print(\"Unitary matrix having left singular vectors as columns: \\n\", U) # U*s is the length of projections on the axes (by columns)\n",
    "print(\"Singular values: \\n\", s) # this is diagonal matrix with sigmas on the diagonal (closeness to tthe axes)\n",
    "print(\"Unitary matrix having right singular vectors as rows: \\n\", VT) # ortogonal basis of the projection"
   ]
  },
  {
   "cell_type": "code",
   "execution_count": 10,
   "metadata": {},
   "outputs": [
    {
     "name": "stdout",
     "output_type": "stream",
     "text": [
      "Reconstructed matrix: \n",
      " [[1. 2.]\n",
      " [3. 4.]\n",
      " [5. 6.]]\n"
     ]
    }
   ],
   "source": [
    "m, n = A.shape[0], A.shape[1]\n",
    "\n",
    "sigma = np.zeros((m, n))\n",
    "for i in range(min(m, n)):\n",
    "    sigma[i, i] = s[i]\n",
    "A_rec = np.dot(np.dot(U,sigma), VT)\n",
    "print(\"Reconstructed matrix: \\n\", A_rec)"
   ]
  },
  {
   "cell_type": "markdown",
   "metadata": {},
   "source": [
    "## Train/Test split"
   ]
  },
  {
   "cell_type": "code",
   "execution_count": 11,
   "metadata": {},
   "outputs": [],
   "source": [
    "import scipy.sparse as sp\n",
    "from scipy import sparse\n",
    "from scipy.sparse.linalg import spsolve"
   ]
  },
  {
   "cell_type": "code",
   "execution_count": 12,
   "metadata": {},
   "outputs": [],
   "source": [
    "user_item_matrix = df_ratings.pivot_table(index=['userId'], columns=['movieId'], values='rating')\n",
    "# Contruct a sparse matrix for our users and items containing number of plays\n",
    "sparse_ui= sp.csr_matrix(user_item_matrix)"
   ]
  },
  {
   "cell_type": "code",
   "execution_count": 13,
   "metadata": {},
   "outputs": [
    {
     "data": {
      "text/plain": [
       "matrix([[4. , nan, 4. , ..., nan, nan, nan],\n",
       "        [nan, nan, nan, ..., nan, nan, nan],\n",
       "        [nan, nan, nan, ..., nan, nan, nan],\n",
       "        ...,\n",
       "        [2.5, 2. , 2. , ..., nan, nan, nan],\n",
       "        [3. , nan, nan, ..., nan, nan, nan],\n",
       "        [5. , nan, nan, ..., nan, nan, nan]])"
      ]
     },
     "execution_count": 13,
     "metadata": {},
     "output_type": "execute_result"
    }
   ],
   "source": [
    "sparse_ui.todense()"
   ]
  },
  {
   "cell_type": "code",
   "execution_count": 14,
   "metadata": {},
   "outputs": [],
   "source": [
    "X_train, X_test = train_test_split(sparse_ui, test_size = 0.25, random_state=57)\n",
    "ind_train, ind_test = train_test_split(user_item_matrix, test_size = 0.25, random_state=57)"
   ]
  },
  {
   "cell_type": "code",
   "execution_count": 15,
   "metadata": {
    "tags": []
   },
   "outputs": [
    {
     "data": {
      "text/plain": [
       "matrix([[nan, nan, nan, ..., nan, nan, nan],\n",
       "        [3.5, 4. , nan, ..., nan, nan, nan],\n",
       "        [nan, nan, nan, ..., nan, nan, nan],\n",
       "        ...,\n",
       "        [nan, nan, nan, ..., nan, nan, nan],\n",
       "        [nan, nan, nan, ..., nan, nan, nan],\n",
       "        [nan, 4. , 5. , ..., nan, nan, nan]])"
      ]
     },
     "execution_count": 15,
     "metadata": {},
     "output_type": "execute_result"
    }
   ],
   "source": [
    "X_train.todense()"
   ]
  },
  {
   "cell_type": "code",
   "execution_count": 16,
   "metadata": {
    "tags": []
   },
   "outputs": [
    {
     "data": {
      "text/html": [
       "<div>\n",
       "<style scoped>\n",
       "    .dataframe tbody tr th:only-of-type {\n",
       "        vertical-align: middle;\n",
       "    }\n",
       "\n",
       "    .dataframe tbody tr th {\n",
       "        vertical-align: top;\n",
       "    }\n",
       "\n",
       "    .dataframe thead th {\n",
       "        text-align: right;\n",
       "    }\n",
       "</style>\n",
       "<table border=\"1\" class=\"dataframe\">\n",
       "  <thead>\n",
       "    <tr style=\"text-align: right;\">\n",
       "      <th>movieId</th>\n",
       "      <th>1</th>\n",
       "      <th>2</th>\n",
       "      <th>3</th>\n",
       "      <th>4</th>\n",
       "      <th>5</th>\n",
       "      <th>6</th>\n",
       "      <th>7</th>\n",
       "      <th>8</th>\n",
       "      <th>9</th>\n",
       "      <th>10</th>\n",
       "      <th>...</th>\n",
       "      <th>193565</th>\n",
       "      <th>193567</th>\n",
       "      <th>193571</th>\n",
       "      <th>193573</th>\n",
       "      <th>193579</th>\n",
       "      <th>193581</th>\n",
       "      <th>193583</th>\n",
       "      <th>193585</th>\n",
       "      <th>193587</th>\n",
       "      <th>193609</th>\n",
       "    </tr>\n",
       "    <tr>\n",
       "      <th>userId</th>\n",
       "      <th></th>\n",
       "      <th></th>\n",
       "      <th></th>\n",
       "      <th></th>\n",
       "      <th></th>\n",
       "      <th></th>\n",
       "      <th></th>\n",
       "      <th></th>\n",
       "      <th></th>\n",
       "      <th></th>\n",
       "      <th></th>\n",
       "      <th></th>\n",
       "      <th></th>\n",
       "      <th></th>\n",
       "      <th></th>\n",
       "      <th></th>\n",
       "      <th></th>\n",
       "      <th></th>\n",
       "      <th></th>\n",
       "      <th></th>\n",
       "      <th></th>\n",
       "    </tr>\n",
       "  </thead>\n",
       "  <tbody>\n",
       "    <tr>\n",
       "      <th>575</th>\n",
       "      <td>NaN</td>\n",
       "      <td>NaN</td>\n",
       "      <td>NaN</td>\n",
       "      <td>NaN</td>\n",
       "      <td>NaN</td>\n",
       "      <td>NaN</td>\n",
       "      <td>NaN</td>\n",
       "      <td>NaN</td>\n",
       "      <td>NaN</td>\n",
       "      <td>NaN</td>\n",
       "      <td>...</td>\n",
       "      <td>NaN</td>\n",
       "      <td>NaN</td>\n",
       "      <td>NaN</td>\n",
       "      <td>NaN</td>\n",
       "      <td>NaN</td>\n",
       "      <td>NaN</td>\n",
       "      <td>NaN</td>\n",
       "      <td>NaN</td>\n",
       "      <td>NaN</td>\n",
       "      <td>NaN</td>\n",
       "    </tr>\n",
       "    <tr>\n",
       "      <th>323</th>\n",
       "      <td>3.5</td>\n",
       "      <td>4.0</td>\n",
       "      <td>NaN</td>\n",
       "      <td>NaN</td>\n",
       "      <td>NaN</td>\n",
       "      <td>NaN</td>\n",
       "      <td>NaN</td>\n",
       "      <td>NaN</td>\n",
       "      <td>NaN</td>\n",
       "      <td>NaN</td>\n",
       "      <td>...</td>\n",
       "      <td>NaN</td>\n",
       "      <td>NaN</td>\n",
       "      <td>NaN</td>\n",
       "      <td>NaN</td>\n",
       "      <td>NaN</td>\n",
       "      <td>NaN</td>\n",
       "      <td>NaN</td>\n",
       "      <td>NaN</td>\n",
       "      <td>NaN</td>\n",
       "      <td>NaN</td>\n",
       "    </tr>\n",
       "    <tr>\n",
       "      <th>14</th>\n",
       "      <td>NaN</td>\n",
       "      <td>NaN</td>\n",
       "      <td>NaN</td>\n",
       "      <td>3.0</td>\n",
       "      <td>NaN</td>\n",
       "      <td>NaN</td>\n",
       "      <td>3.0</td>\n",
       "      <td>NaN</td>\n",
       "      <td>NaN</td>\n",
       "      <td>NaN</td>\n",
       "      <td>...</td>\n",
       "      <td>NaN</td>\n",
       "      <td>NaN</td>\n",
       "      <td>NaN</td>\n",
       "      <td>NaN</td>\n",
       "      <td>NaN</td>\n",
       "      <td>NaN</td>\n",
       "      <td>NaN</td>\n",
       "      <td>NaN</td>\n",
       "      <td>NaN</td>\n",
       "      <td>NaN</td>\n",
       "    </tr>\n",
       "    <tr>\n",
       "      <th>496</th>\n",
       "      <td>NaN</td>\n",
       "      <td>NaN</td>\n",
       "      <td>NaN</td>\n",
       "      <td>NaN</td>\n",
       "      <td>NaN</td>\n",
       "      <td>NaN</td>\n",
       "      <td>NaN</td>\n",
       "      <td>NaN</td>\n",
       "      <td>NaN</td>\n",
       "      <td>NaN</td>\n",
       "      <td>...</td>\n",
       "      <td>NaN</td>\n",
       "      <td>NaN</td>\n",
       "      <td>NaN</td>\n",
       "      <td>NaN</td>\n",
       "      <td>NaN</td>\n",
       "      <td>NaN</td>\n",
       "      <td>NaN</td>\n",
       "      <td>NaN</td>\n",
       "      <td>NaN</td>\n",
       "      <td>NaN</td>\n",
       "    </tr>\n",
       "    <tr>\n",
       "      <th>531</th>\n",
       "      <td>NaN</td>\n",
       "      <td>NaN</td>\n",
       "      <td>NaN</td>\n",
       "      <td>NaN</td>\n",
       "      <td>NaN</td>\n",
       "      <td>NaN</td>\n",
       "      <td>NaN</td>\n",
       "      <td>NaN</td>\n",
       "      <td>NaN</td>\n",
       "      <td>4.0</td>\n",
       "      <td>...</td>\n",
       "      <td>NaN</td>\n",
       "      <td>NaN</td>\n",
       "      <td>NaN</td>\n",
       "      <td>NaN</td>\n",
       "      <td>NaN</td>\n",
       "      <td>NaN</td>\n",
       "      <td>NaN</td>\n",
       "      <td>NaN</td>\n",
       "      <td>NaN</td>\n",
       "      <td>NaN</td>\n",
       "    </tr>\n",
       "  </tbody>\n",
       "</table>\n",
       "<p>5 rows × 9724 columns</p>\n",
       "</div>"
      ],
      "text/plain": [
       "movieId  1       2       3       4       5       6       7       8       \\\n",
       "userId                                                                    \n",
       "575         NaN     NaN     NaN     NaN     NaN     NaN     NaN     NaN   \n",
       "323         3.5     4.0     NaN     NaN     NaN     NaN     NaN     NaN   \n",
       "14          NaN     NaN     NaN     3.0     NaN     NaN     3.0     NaN   \n",
       "496         NaN     NaN     NaN     NaN     NaN     NaN     NaN     NaN   \n",
       "531         NaN     NaN     NaN     NaN     NaN     NaN     NaN     NaN   \n",
       "\n",
       "movieId  9       10      ...  193565  193567  193571  193573  193579  193581  \\\n",
       "userId                   ...                                                   \n",
       "575         NaN     NaN  ...     NaN     NaN     NaN     NaN     NaN     NaN   \n",
       "323         NaN     NaN  ...     NaN     NaN     NaN     NaN     NaN     NaN   \n",
       "14          NaN     NaN  ...     NaN     NaN     NaN     NaN     NaN     NaN   \n",
       "496         NaN     NaN  ...     NaN     NaN     NaN     NaN     NaN     NaN   \n",
       "531         NaN     4.0  ...     NaN     NaN     NaN     NaN     NaN     NaN   \n",
       "\n",
       "movieId  193583  193585  193587  193609  \n",
       "userId                                   \n",
       "575         NaN     NaN     NaN     NaN  \n",
       "323         NaN     NaN     NaN     NaN  \n",
       "14          NaN     NaN     NaN     NaN  \n",
       "496         NaN     NaN     NaN     NaN  \n",
       "531         NaN     NaN     NaN     NaN  \n",
       "\n",
       "[5 rows x 9724 columns]"
      ]
     },
     "execution_count": 16,
     "metadata": {},
     "output_type": "execute_result"
    }
   ],
   "source": [
    "ind_train.head()"
   ]
  },
  {
   "cell_type": "code",
   "execution_count": 17,
   "metadata": {},
   "outputs": [],
   "source": [
    "X_res = pd.DataFrame(index=ind_train.index, data=[], columns=['actual'])\n",
    "for i in X_res.index:\n",
    "    X_res.loc[i]['actual'] = list(set(ind_train.loc[i][ind_train.loc[i].notnull()].index))"
   ]
  },
  {
   "cell_type": "code",
   "execution_count": 18,
   "metadata": {
    "tags": []
   },
   "outputs": [],
   "source": [
    "# ind_train.loc[1][ind_train.loc[1].notnull()].index"
   ]
  },
  {
   "cell_type": "code",
   "execution_count": 19,
   "metadata": {},
   "outputs": [
    {
     "data": {
      "text/html": [
       "<div>\n",
       "<style scoped>\n",
       "    .dataframe tbody tr th:only-of-type {\n",
       "        vertical-align: middle;\n",
       "    }\n",
       "\n",
       "    .dataframe tbody tr th {\n",
       "        vertical-align: top;\n",
       "    }\n",
       "\n",
       "    .dataframe thead th {\n",
       "        text-align: right;\n",
       "    }\n",
       "</style>\n",
       "<table border=\"1\" class=\"dataframe\">\n",
       "  <thead>\n",
       "    <tr style=\"text-align: right;\">\n",
       "      <th></th>\n",
       "      <th>actual</th>\n",
       "    </tr>\n",
       "    <tr>\n",
       "      <th>userId</th>\n",
       "      <th></th>\n",
       "    </tr>\n",
       "  </thead>\n",
       "  <tbody>\n",
       "    <tr>\n",
       "      <th>575</th>\n",
       "      <td>[2560, 2436, 2566, 2567, 2568, 2571, 2572, 257...</td>\n",
       "    </tr>\n",
       "    <tr>\n",
       "      <th>323</th>\n",
       "      <td>[1, 2, 2571, 1037, 527, 17, 19, 22, 110102, 29...</td>\n",
       "    </tr>\n",
       "    <tr>\n",
       "      <th>14</th>\n",
       "      <td>[4, 7, 266, 524, 527, 784, 19, 150, 153, 25, 2...</td>\n",
       "    </tr>\n",
       "    <tr>\n",
       "      <th>496</th>\n",
       "      <td>[4993, 111362, 2950, 904, 104841, 912, 84374, ...</td>\n",
       "    </tr>\n",
       "    <tr>\n",
       "      <th>531</th>\n",
       "      <td>[4993, 260, 10, 1291, 919, 1961, 2473, 1198, 1...</td>\n",
       "    </tr>\n",
       "  </tbody>\n",
       "</table>\n",
       "</div>"
      ],
      "text/plain": [
       "                                                   actual\n",
       "userId                                                   \n",
       "575     [2560, 2436, 2566, 2567, 2568, 2571, 2572, 257...\n",
       "323     [1, 2, 2571, 1037, 527, 17, 19, 22, 110102, 29...\n",
       "14      [4, 7, 266, 524, 527, 784, 19, 150, 153, 25, 2...\n",
       "496     [4993, 111362, 2950, 904, 104841, 912, 84374, ...\n",
       "531     [4993, 260, 10, 1291, 919, 1961, 2473, 1198, 1..."
      ]
     },
     "execution_count": 19,
     "metadata": {},
     "output_type": "execute_result"
    }
   ],
   "source": [
    "X_res.head()"
   ]
  },
  {
   "cell_type": "code",
   "execution_count": 20,
   "metadata": {},
   "outputs": [],
   "source": [
    "ind_train_u = pd.Series(ind_train.index.tolist())\n",
    "ind_train_i = pd.Series(ind_train.columns.values.tolist())"
   ]
  },
  {
   "cell_type": "code",
   "execution_count": 21,
   "metadata": {},
   "outputs": [
    {
     "name": "stdout",
     "output_type": "stream",
     "text": [
      "(457, 9724) (153, 9724)\n"
     ]
    }
   ],
   "source": [
    "print(X_train.shape, X_test.shape)"
   ]
  },
  {
   "cell_type": "code",
   "execution_count": 64,
   "metadata": {
    "tags": []
   },
   "outputs": [
    {
     "data": {
      "text/plain": [
       "0    1\n",
       "1    2\n",
       "2    3\n",
       "3    4\n",
       "4    5\n",
       "dtype: int64"
      ]
     },
     "execution_count": 64,
     "metadata": {},
     "output_type": "execute_result"
    }
   ],
   "source": [
    "ind_train_i.head(5)"
   ]
  },
  {
   "cell_type": "markdown",
   "metadata": {},
   "source": [
    "### Latent Factor Model ()"
   ]
  },
  {
   "cell_type": "markdown",
   "metadata": {},
   "source": [
    "Будем искать значение целовой переменной $r_{ui}$ пользователя $u$, поставленная фильму $i$, как скалярное произведение векторов $p_u$ и $q_i$ в некотором пространстве $T$ латентных признаков:\n",
    "$$\n",
    "    r_{ui}\n",
    "    \\approx\n",
    "    \\langle p_u, q_i \\rangle.\n",
    "$$\n"
   ]
  },
  {
   "cell_type": "markdown",
   "metadata": {},
   "source": [
    "Как мы обсуждали на уроке нам необходимо минимизировать следующий функционал (LFM):\n",
    "\n",
    "\\begin{equation}\n",
    "\\label{eq:lfmReg}\n",
    "    \\sum_{(u, i) \\in R}\n",
    "        \\left(\n",
    "            r_{ui}\n",
    "            - \\langle p_u, q_i \\rangle\n",
    "        \\right)^2\n",
    "    +\n",
    "    \\lambda\n",
    "    \\sum_{u \\in U}\n",
    "        \\|p_u\\|^2\n",
    "    +\n",
    "    \\mu\n",
    "    \\sum_{i \\in I}\n",
    "        \\|q_i\\|^2\n",
    "    \\to\n",
    "    \\min_{P, Q}\n",
    "\\end{equation}"
   ]
  },
  {
   "cell_type": "markdown",
   "metadata": {},
   "source": [
    "Мы проведем $N$ итераций, в рамках каждой итерации сначала оптимизируем $p$ при фиксированном\n",
    "$q$, затем $q$ при фиксированном $p$.\n",
    "\n",
    "Составим матрицу $P$ из векторов $p_u$ и матрицу $Q$ из векторов $q_i$. Матрицей $Q[u] \\in R^{n_u×K}$ будем обозначать подматрицу матрицы $Q$ только для товаров, оцененных пользователем $u$, где $n_u$ – количество оценок пользователя $u$.\n",
    "Шаг перенастройки $p_u$ при фиксированной матрице $Q$ сводится к настройке Ridge-регрессии и выглядит так:\n",
    "$$A_u = Q[u]^T Q[u] $$\n",
    "$$d_u = Q[u]^Tr_u $$\n",
    "$$p_u = (\\lambda n_uI + A_u)^{−1}d_u\n",
    "$$"
   ]
  },
  {
   "cell_type": "markdown",
   "metadata": {},
   "source": [
    "Есть __явные (explicit)__ предпочтения, которые более надежно дают характеристику подходящего объекта для пользователей:\n",
    "- Покупки, добавления в корзину\n",
    "- Рейтинги\n",
    "\n",
    "И __неявные (implicit)__, их как правило больше:\n",
    "- Посещение страницы товара\n",
    "- Просмотр части фильма\n",
    "\n",
    "__Идея iALS__: предсказываем $s_{ui}$ c весом $c_{ui} = 1 + \\alpha*r_{ui}$. Коэффициент $\\alpha$ позволяет регулировать влияние явного рейтинга на уверенность в интересе.\n",
    "\n",
    "\\begin{equation}\n",
    "\\label{eq:lfmReg}\n",
    "    \\sum_{(u, i) \\in R}\n",
    "        \\left(c_{ui}*(\n",
    "            s_{ui}\n",
    "            - \\langle p_u, q_i \\rangle\n",
    "        \\right)^2)\n",
    "    +\n",
    "    \\lambda\n",
    "    \\sum_{u \\in U}\n",
    "        \\|p_u\\|^2\n",
    "    +\n",
    "    \\mu\n",
    "    \\sum_{i \\in I}\n",
    "        \\|q_i\\|^2\n",
    "    \\to\n",
    "    \\min_{P, Q}\n",
    "\\end{equation}"
   ]
  },
  {
   "cell_type": "code",
   "execution_count": 22,
   "metadata": {},
   "outputs": [],
   "source": [
    "from scipy import sparse\n",
    "from scipy.sparse.linalg import spsolve\n",
    "# from sklearn.metrics.pairwise import cosine_similarity\n",
    "from sklearn.preprocessing import MinMaxScaler"
   ]
  },
  {
   "cell_type": "code",
   "execution_count": 23,
   "metadata": {},
   "outputs": [],
   "source": [
    "seed=57\n",
    "rstate = np.random.RandomState(seed)\n",
    "rank_size=10\n",
    "lambda_val = 0.1\n",
    "num_user = X_train.shape[0]\n",
    "num_item = X_train.shape[1]\n",
    "P = sparse.csr_matrix((rstate.normal(size = (num_user, rank_size)))) # Random numbers in a m x rank shape\n",
    "Q = sparse.csr_matrix((rstate.normal(size = (num_item, rank_size)))) # Normally this would be rank x n but we can transpose at the end. Makes calculation more simple.\n",
    "QTQ = Q.T.dot(Q) # QTQ\n",
    "PTP = P.T.dot(P)\n",
    "P_eye = sparse.eye(num_user)\n",
    "Q_eye = sparse.eye(num_item)\n",
    "lambda_eye = lambda_val * sparse.eye(rank_size) # Our regularization term lambda*I."
   ]
  },
  {
   "cell_type": "code",
   "execution_count": 24,
   "metadata": {},
   "outputs": [
    {
     "name": "stdout",
     "output_type": "stream",
     "text": [
      "[[ 0.0044179  -0.01638758 -0.00766912 -0.00914071  0.02136258 -0.00095192\n",
      "  -0.00905147  0.01610489  0.00381576 -0.00747813]]\n"
     ]
    }
   ],
   "source": [
    "u=5\n",
    "pref = X_train[u, :].toarray() # Grab user row from confidence matrix and convert to dense\n",
    "pref_u = pref[~np.isnan(pref)] # We take only the movies which the user has rated\n",
    "u_rated_movies_ind = np.argwhere(~np.isnan(pref))[:,1] # Index of the rated movies\n",
    "Qu = Q[u_rated_movies_ind, :] # We construct the Qu matrix of only rated existant pairs (u, i)\n",
    "QuTru = Qu.T.dot(pref_u.T) # This is the QuTPu term\n",
    "Q[u] = spsolve(QTQ +lambda_eye, QuTru)\n",
    "print(Q[u].toarray())"
   ]
  },
  {
   "cell_type": "code",
   "execution_count": 36,
   "metadata": {},
   "outputs": [],
   "source": [
    "def lfm_als(training_set, lambda_val, iterations=10, rank_size=20, seed=57):\n",
    "    \"\"\"\n",
    "    Model by Bell R.M., Koren Y., Volinsky C. The BellKor 2008 solution to the Netflix Prize.\n",
    "    \n",
    "    parameters:\n",
    "    \n",
    "    training_set - Our matrix of ratings with shape m x n, where m is the number of users and n is the number of items.\n",
    "    Should be a sparse csr matrix to save space. \n",
    "    \n",
    "    lambda_val - Used for regularization during alternating least squares. Increasing this value may increase bias\n",
    "    but decrease variance. Default is 0.1. \n",
    "    \n",
    "    iterations - The number of times to alternate between both user feature vector and item feature vector in\n",
    "    alternating least squares. More iterations will allow better convergence at the cost of increased computation. \n",
    "    The authors found 10 iterations was sufficient, but more may be required to converge. \n",
    "    \n",
    "    rank_size - The number of latent features in the user/item feature vectors. The paper recommends varying this \n",
    "    between 20-200. Increasing the number of features may overfit but could reduce bias. \n",
    "    \n",
    "    seed - Set the seed for reproducible results\n",
    "    \n",
    "    returns:\n",
    "    \n",
    "    The feature vectors for users and items. The dot product of these feature vectors should give you the expected \n",
    "    \"rating\" at each point in your original matrix. \n",
    "    \"\"\"\n",
    "    \n",
    "    # Get the size of our original ratings matrix, m x n\n",
    "    num_user = training_set.shape[0]\n",
    "    num_item = training_set.shape[1]\n",
    "    \n",
    "    # initialize our X/Y feature vectors randomly with a set seed\n",
    "    rstate = np.random.RandomState(seed)\n",
    "    \n",
    "    P = sparse.csr_matrix((rstate.normal(size = (num_user, rank_size)))) # предсставление пользователей\n",
    "    Q = sparse.csr_matrix((rstate.normal(size = (num_item, rank_size)))) # Normally this would be rank x n but we can transpose at the end. Makes calculation more simple.\n",
    "    # QTQ = Q.T.dot(Q) # QTQ\n",
    "    # PTP = P.T.dot(P)\n",
    "    P_eye = sparse.eye(num_user)\n",
    "    Q_eye = sparse.eye(num_item)\n",
    "    lambda_eye = lambda_val * sparse.eye(rank_size) # Our regularization term lambda*I.\n",
    "    \n",
    "    # Begin iterations\n",
    "   \n",
    "    # Iterate back and forth between solving X given fixed Y and vice versa\n",
    "    for iter_step in range(iterations):\n",
    "        # Compute yTy and xTx at beginning of each iteration to save computing time\n",
    "        QTQ = Q.T.dot(Q) # QTQ\n",
    "        PTP = P.T.dot(P)\n",
    "        \n",
    "        # Being iteration to solve for P based on fixed Q\n",
    "        for u in range(num_user):\n",
    "            pref = training_set[u, :].toarray() # Grab user row from confidence matrix and convert to dense\n",
    "            pref_u = pref[~np.isnan(pref)] # We take only the movies which the user has rated\n",
    "            u_rated_movies_ind = np.argwhere(~np.isnan(pref))[:,1] # Index of the rated movies\n",
    "            Qu = Q[u_rated_movies_ind, :] # We construct the Qu matrix of only rated existant pairs (u, i)\n",
    "            QuTru = Qu.T.dot(pref_u.T) # This is the QuTru term\n",
    "            Q[u] = spsolve(QTQ +lambda_eye, QuTru) # Solve for Qu = ((QTQ + lambda*I)^-1)QT*Pu | Ax=b\n",
    "        \n",
    "        # Begin iteration to solve for Q based on fixed P\n",
    "        for i in range(num_item):\n",
    "            pref = training_set[:, i].toarray() # Grab user row from confidence matrix and convert to dense\n",
    "            pref_i = pref[~np.isnan(pref)]\n",
    "            i_rated_items_ind = np.argwhere(~np.isnan(pref))[:,0] \n",
    "            Pi = P[i_rated_items_ind, :]\n",
    "            PiTri = Pi.T.dot(pref_i.T) \n",
    "            P[u] = spsolve(PTP +lambda_eye, PiTri)     \n",
    "            \n",
    "            \n",
    "    # End iterations\n",
    "    return P, Q.T"
   ]
  },
  {
   "cell_type": "code",
   "execution_count": 37,
   "metadata": {},
   "outputs": [
    {
     "name": "stdout",
     "output_type": "stream",
     "text": [
      "CPU times: user 7min 1s, sys: 2.04 s, total: 7min 3s\n",
      "Wall time: 7min 4s\n"
     ]
    }
   ],
   "source": [
    "%%time\n",
    "P, Q = lfm_als(X_train, lambda_val = 0.1, iterations = 10, rank_size = 20)"
   ]
  },
  {
   "cell_type": "code",
   "execution_count": 38,
   "metadata": {},
   "outputs": [
    {
     "name": "stdout",
     "output_type": "stream",
     "text": [
      "P shape: (457, 20)\n",
      "Q shape: (20, 9724)\n"
     ]
    }
   ],
   "source": [
    "print(\"P shape: {}\".format(P.shape))\n",
    "print(\"Q shape: {}\".format(Q.shape))"
   ]
  },
  {
   "cell_type": "markdown",
   "metadata": {},
   "source": [
    "### Find Similar movies"
   ]
  },
  {
   "cell_type": "markdown",
   "metadata": {},
   "source": [
    "Now that we have the embeddings for all the movies and all the users, we can find similar movies"
   ]
  },
  {
   "cell_type": "code",
   "execution_count": 39,
   "metadata": {},
   "outputs": [
    {
     "data": {
      "text/html": [
       "<div>\n",
       "<style scoped>\n",
       "    .dataframe tbody tr th:only-of-type {\n",
       "        vertical-align: middle;\n",
       "    }\n",
       "\n",
       "    .dataframe tbody tr th {\n",
       "        vertical-align: top;\n",
       "    }\n",
       "\n",
       "    .dataframe thead th {\n",
       "        text-align: right;\n",
       "    }\n",
       "</style>\n",
       "<table border=\"1\" class=\"dataframe\">\n",
       "  <thead>\n",
       "    <tr style=\"text-align: right;\">\n",
       "      <th></th>\n",
       "      <th>movieId</th>\n",
       "      <th>title</th>\n",
       "      <th>genres</th>\n",
       "    </tr>\n",
       "  </thead>\n",
       "  <tbody>\n",
       "    <tr>\n",
       "      <th>3194</th>\n",
       "      <td>4306</td>\n",
       "      <td>Shrek (2001)</td>\n",
       "      <td>Adventure|Animation|Children|Comedy|Fantasy|Ro...</td>\n",
       "    </tr>\n",
       "    <tr>\n",
       "      <th>5160</th>\n",
       "      <td>8360</td>\n",
       "      <td>Shrek 2 (2004)</td>\n",
       "      <td>Adventure|Animation|Children|Comedy|Musical|Ro...</td>\n",
       "    </tr>\n",
       "    <tr>\n",
       "      <th>6486</th>\n",
       "      <td>53121</td>\n",
       "      <td>Shrek the Third (2007)</td>\n",
       "      <td>Adventure|Animation|Children|Comedy|Fantasy</td>\n",
       "    </tr>\n",
       "    <tr>\n",
       "      <th>6915</th>\n",
       "      <td>64249</td>\n",
       "      <td>Shrek the Halls (2007)</td>\n",
       "      <td>Adventure|Animation|Comedy|Fantasy</td>\n",
       "    </tr>\n",
       "    <tr>\n",
       "      <th>7360</th>\n",
       "      <td>78637</td>\n",
       "      <td>Shrek Forever After (a.k.a. Shrek: The Final C...</td>\n",
       "      <td>Adventure|Animation|Children|Comedy|Fantasy|IMAX</td>\n",
       "    </tr>\n",
       "  </tbody>\n",
       "</table>\n",
       "</div>"
      ],
      "text/plain": [
       "      movieId                                              title  \\\n",
       "3194     4306                                       Shrek (2001)   \n",
       "5160     8360                                     Shrek 2 (2004)   \n",
       "6486    53121                             Shrek the Third (2007)   \n",
       "6915    64249                             Shrek the Halls (2007)   \n",
       "7360    78637  Shrek Forever After (a.k.a. Shrek: The Final C...   \n",
       "\n",
       "                                                 genres  \n",
       "3194  Adventure|Animation|Children|Comedy|Fantasy|Ro...  \n",
       "5160  Adventure|Animation|Children|Comedy|Musical|Ro...  \n",
       "6486        Adventure|Animation|Children|Comedy|Fantasy  \n",
       "6915                 Adventure|Animation|Comedy|Fantasy  \n",
       "7360   Adventure|Animation|Children|Comedy|Fantasy|IMAX  "
      ]
     },
     "execution_count": 39,
     "metadata": {},
     "output_type": "execute_result"
    }
   ],
   "source": [
    "df_movies[df_movies['title'].str.contains('Shrek')]"
   ]
  },
  {
   "cell_type": "code",
   "execution_count": 40,
   "metadata": {},
   "outputs": [],
   "source": [
    "# Let's find similar movies to Shrek (2001).\n",
    "movieId = 5615\n",
    "ind_i = ind_train_i[ind_train_i == movieId].index[0]\n",
    "\n",
    "# Get the item row\n",
    "qi = Q[:, ind_i].toarray()[:, 0]"
   ]
  },
  {
   "cell_type": "code",
   "execution_count": 41,
   "metadata": {},
   "outputs": [],
   "source": [
    "# Calculate the similarity score between choseen movie and other movies\n",
    "# and select the top 10 most similar.\n",
    "scores = Q.T.dot(qi)\n",
    "top_10 = np.argsort(scores)[::-1][:10]"
   ]
  },
  {
   "cell_type": "code",
   "execution_count": 67,
   "metadata": {
    "tags": []
   },
   "outputs": [
    {
     "data": {
      "text/plain": [
       "array([ -8.47375052,   2.59539927,  10.46321899, -12.16465916,\n",
       "        -3.74321442,  -5.09492237,   0.62415503,  -0.9127764 ,\n",
       "        -7.24430101,  -3.0877332 ])"
      ]
     },
     "execution_count": 67,
     "metadata": {},
     "output_type": "execute_result"
    }
   ],
   "source": [
    "scores[::-1][:10]"
   ]
  },
  {
   "cell_type": "code",
   "execution_count": 42,
   "metadata": {},
   "outputs": [
    {
     "data": {
      "text/plain": [
       "array([3977, 6043, 6192, 6991, 5879, 4048, 4439, 7068, 1166, 9547])"
      ]
     },
     "execution_count": 42,
     "metadata": {},
     "output_type": "execute_result"
    }
   ],
   "source": [
    "top_10"
   ]
  },
  {
   "cell_type": "code",
   "execution_count": 44,
   "metadata": {},
   "outputs": [
    {
     "data": {
      "text/plain": [
       "'Wind Will Carry Us, The (Bad ma ra khahad bord) (1999)'"
      ]
     },
     "execution_count": 44,
     "metadata": {},
     "output_type": "execute_result"
    }
   ],
   "source": [
    "# since we have indexes are not equal to movieId, we take the movieId from the \n",
    "df_movies[df_movies['movieId']==ind_train_i[5615]]['title'].iloc[0]"
   ]
  },
  {
   "cell_type": "code",
   "execution_count": 45,
   "metadata": {},
   "outputs": [
    {
     "data": {
      "text/html": [
       "<div>\n",
       "<style scoped>\n",
       "    .dataframe tbody tr th:only-of-type {\n",
       "        vertical-align: middle;\n",
       "    }\n",
       "\n",
       "    .dataframe tbody tr th {\n",
       "        vertical-align: top;\n",
       "    }\n",
       "\n",
       "    .dataframe thead th {\n",
       "        text-align: right;\n",
       "    }\n",
       "</style>\n",
       "<table border=\"1\" class=\"dataframe\">\n",
       "  <thead>\n",
       "    <tr style=\"text-align: right;\">\n",
       "      <th></th>\n",
       "      <th>movieId</th>\n",
       "      <th>movies</th>\n",
       "      <th>score</th>\n",
       "      <th>genres</th>\n",
       "    </tr>\n",
       "  </thead>\n",
       "  <tbody>\n",
       "    <tr>\n",
       "      <th>0</th>\n",
       "      <td>5615</td>\n",
       "      <td>Invincible (2001)</td>\n",
       "      <td>29.756241</td>\n",
       "      <td>Drama</td>\n",
       "    </tr>\n",
       "    <tr>\n",
       "      <th>1</th>\n",
       "      <td>40723</td>\n",
       "      <td>Wolf Creek (2005)</td>\n",
       "      <td>21.278858</td>\n",
       "      <td>Crime|Horror|Thriller</td>\n",
       "    </tr>\n",
       "    <tr>\n",
       "      <th>2</th>\n",
       "      <td>45499</td>\n",
       "      <td>X-Men: The Last Stand (2006)</td>\n",
       "      <td>19.570919</td>\n",
       "      <td>Action|Sci-Fi|Thriller</td>\n",
       "    </tr>\n",
       "    <tr>\n",
       "      <th>3</th>\n",
       "      <td>68073</td>\n",
       "      <td>Pirate Radio (2009)</td>\n",
       "      <td>19.309013</td>\n",
       "      <td>Comedy|Drama</td>\n",
       "    </tr>\n",
       "    <tr>\n",
       "      <th>4</th>\n",
       "      <td>33437</td>\n",
       "      <td>Unleashed (Danny the Dog) (2005)</td>\n",
       "      <td>18.446562</td>\n",
       "      <td>Action|Crime|Drama|Thriller</td>\n",
       "    </tr>\n",
       "    <tr>\n",
       "      <th>5</th>\n",
       "      <td>5772</td>\n",
       "      <td>My Dinner with André (1981)</td>\n",
       "      <td>18.351032</td>\n",
       "      <td>Drama</td>\n",
       "    </tr>\n",
       "    <tr>\n",
       "      <th>6</th>\n",
       "      <td>6564</td>\n",
       "      <td>Lara Croft Tomb Raider: The Cradle of Life (2003)</td>\n",
       "      <td>18.269228</td>\n",
       "      <td>Action|Adventure|Comedy|Romance|Thriller</td>\n",
       "    </tr>\n",
       "    <tr>\n",
       "      <th>7</th>\n",
       "      <td>70015</td>\n",
       "      <td>Polytechnique (2009)</td>\n",
       "      <td>18.228665</td>\n",
       "      <td>Crime|Drama</td>\n",
       "    </tr>\n",
       "    <tr>\n",
       "      <th>8</th>\n",
       "      <td>1547</td>\n",
       "      <td>Shiloh (1997)</td>\n",
       "      <td>17.807164</td>\n",
       "      <td>Children|Drama</td>\n",
       "    </tr>\n",
       "    <tr>\n",
       "      <th>9</th>\n",
       "      <td>173873</td>\n",
       "      <td>Gulliver's Travels (1996)</td>\n",
       "      <td>17.672585</td>\n",
       "      <td>Adventure|Children|Fantasy</td>\n",
       "    </tr>\n",
       "  </tbody>\n",
       "</table>\n",
       "</div>"
      ],
      "text/plain": [
       "   movieId                                             movies      score  \\\n",
       "0     5615                                  Invincible (2001)  29.756241   \n",
       "1    40723                                  Wolf Creek (2005)  21.278858   \n",
       "2    45499                       X-Men: The Last Stand (2006)  19.570919   \n",
       "3    68073                                Pirate Radio (2009)  19.309013   \n",
       "4    33437                   Unleashed (Danny the Dog) (2005)  18.446562   \n",
       "5     5772                        My Dinner with André (1981)  18.351032   \n",
       "6     6564  Lara Croft Tomb Raider: The Cradle of Life (2003)  18.269228   \n",
       "7    70015                               Polytechnique (2009)  18.228665   \n",
       "8     1547                                      Shiloh (1997)  17.807164   \n",
       "9   173873                          Gulliver's Travels (1996)  17.672585   \n",
       "\n",
       "                                     genres  \n",
       "0                                     Drama  \n",
       "1                     Crime|Horror|Thriller  \n",
       "2                    Action|Sci-Fi|Thriller  \n",
       "3                              Comedy|Drama  \n",
       "4               Action|Crime|Drama|Thriller  \n",
       "5                                     Drama  \n",
       "6  Action|Adventure|Comedy|Romance|Thriller  \n",
       "7                               Crime|Drama  \n",
       "8                            Children|Drama  \n",
       "9                Adventure|Children|Fantasy  "
      ]
     },
     "execution_count": 45,
     "metadata": {},
     "output_type": "execute_result"
    }
   ],
   "source": [
    "movies = []\n",
    "movies_genres = []\n",
    "movies_scores = []\n",
    "movies_ids = []\n",
    "\n",
    "# Get and print the actual artists names and scores\n",
    "for idx in top_10:\n",
    "    movies_ids.append(ind_train_i[idx])\n",
    "    movies.append(df_movies[df_movies['movieId']==ind_train_i[idx]]['title'].iloc[0])\n",
    "    movies_genres.append(df_movies[df_movies['movieId']==ind_train_i[idx]]['genres'].iloc[0])\n",
    "    movies_scores.append(scores[idx])\n",
    "\n",
    "similar = pd.DataFrame({'movieId': movies_ids, 'movies': movies, 'score': movies_scores, 'genres': movies_genres})\n",
    "similar"
   ]
  },
  {
   "cell_type": "markdown",
   "metadata": {},
   "source": [
    "### Recommend movies to the user"
   ]
  },
  {
   "cell_type": "markdown",
   "metadata": {},
   "source": [
    "Let's write a function to predict for every user a movie not watched."
   ]
  },
  {
   "cell_type": "code",
   "execution_count": 57,
   "metadata": {},
   "outputs": [],
   "source": [
    "def predict_top_k(user_id, training_set, P, Q, df_movies, ind_train_i, k=10):\n",
    "    \"\"\"\n",
    "    Recommend items for a given user given a trained model\n",
    "    Args:\n",
    "        user_id (int): The id of the user we want to create recommendations for.\n",
    "        data_sparse (csr_matrix): Our original training data.\n",
    "        P (csr_matrix): Users embedding\n",
    "        Q (pandas.DataFrame): Item embedding\n",
    "        k (int): How many recommendations we want to return:\n",
    "    Returns:\n",
    "        recommendations (pandas.DataFrame): DataFrame with k movies and scores\n",
    "    \"\"\"\n",
    "  \n",
    "    # Get all interactions by the user\n",
    "    user_interactions = training_set[user_id,:].toarray()\n",
    "\n",
    "    # We don't want to recommend items the user has consumed. So let's\n",
    "    # set them all to 0 and the NaNs to 1.\n",
    "    \n",
    "    user_interactions = np.where(~np.isnan(user_interactions), 0, user_interactions)\n",
    "    user_interactions = np.nan_to_num(user_interactions[0], nan=1)\n",
    "\n",
    "    # This is where we calculate the recommendation by taking the \n",
    "    # dot-product of the user vectors with the item vectors.\n",
    "            \n",
    "    rec_vector = P[user_id,:].dot(Q).toarray()\n",
    "\n",
    "    # Let's scale our scores between 0 and 1 to make it all easier to interpret.\n",
    "    min_max = MinMaxScaler()\n",
    "    rec_vector_scaled = min_max.fit_transform(rec_vector.reshape(-1,1))[:,0]\n",
    "    recommend_vector = user_interactions*rec_vector_scaled\n",
    "   \n",
    "    # Get all the movies indices in order of recommendations (descending) and\n",
    "    # select only the top \"k\" items.\n",
    "    item_idx = np.argsort(recommend_vector)[::-1][:k]\n",
    "\n",
    "    # Loop through our recommended movie indicies and look up the movie title\n",
    "    movies = []\n",
    "    movies_scores = []\n",
    "    movies_ids = []\n",
    "\n",
    "    # Get and print the actual movie names, IDs and scores\n",
    "    for idx in item_idx:\n",
    "        movies_ids.append(ind_train_i[idx])\n",
    "        movies.append(df_movies[df_movies['movieId']==ind_train_i[idx]]['title'].iloc[0])\n",
    "        movies_scores.append(recommend_vector[idx])\n",
    "\n",
    "    similar = pd.DataFrame({'movieId': movies_ids, 'title': movies, 'score': movies_scores})\n",
    "    \n",
    "    return similar"
   ]
  },
  {
   "cell_type": "code",
   "execution_count": 58,
   "metadata": {},
   "outputs": [
    {
     "name": "stdout",
     "output_type": "stream",
     "text": [
      "   movieId                                              title     score\n",
      "0     5615                                  Invincible (2001)  1.000000\n",
      "1    93502                                  Ledge, The (2011)  0.994485\n",
      "2    89072                                  Stake Land (2010)  0.957493\n",
      "3     4334                                       Yi Yi (2000)  0.947172\n",
      "4     5570                              Thesis (Tesis) (1996)  0.934872\n",
      "5    26236  White Sun of the Desert, The (Beloe solntse pu...  0.932483\n",
      "6    80549                                      Easy A (2010)  0.931932\n",
      "7     4395  Big Deal on Madonna Street (I Soliti Ignoti) (...  0.926718\n",
      "8   144222                             Bros Before Hos (2013)  0.924318\n",
      "9     3790                                      Groove (2000)  0.922260\n"
     ]
    }
   ],
   "source": [
    "# Let's generate and print our recommendations\n",
    "user_id = 103\n",
    "recommendations = predict_top_k(user_id, X_train, P, Q, df_movies, ind_train_i, k=10)\n",
    "print(recommendations)"
   ]
  },
  {
   "cell_type": "code",
   "execution_count": 56,
   "metadata": {
    "tags": []
   },
   "outputs": [
    {
     "data": {
      "text/plain": [
       "array([1., 1., 1., ..., 1., 1., 1.])"
      ]
     },
     "execution_count": 56,
     "metadata": {},
     "output_type": "execute_result"
    }
   ],
   "source": [
    "user_interactions = X_train[103,:].toarray()\n",
    "user_interactions = np.where(~np.isnan(user_interactions), 0, user_interactions)\n",
    "user_interactions = np.nan_to_num(user_interactions[0], nan=1)\n",
    "\n",
    "user_interactions"
   ]
  },
  {
   "cell_type": "code",
   "execution_count": 60,
   "metadata": {},
   "outputs": [],
   "source": [
    "# Let's put it in a list of recommendation for every user\n",
    "pred = []\n",
    "for i in X_res.index:\n",
    "    ind = ind_train_u[ind_train_u == i].index[0] # get index in the sparse matrix\n",
    "    recom = predict_top_k(ind, X_train, P, Q, df_movies, ind_train_i, k=10)\n",
    "    pred.append(recom['movieId'].to_list())"
   ]
  },
  {
   "cell_type": "code",
   "execution_count": 61,
   "metadata": {},
   "outputs": [],
   "source": [
    "X_res['predicted'] = pred"
   ]
  },
  {
   "cell_type": "code",
   "execution_count": 62,
   "metadata": {
    "tags": []
   },
   "outputs": [
    {
     "data": {
      "text/html": [
       "<div>\n",
       "<style scoped>\n",
       "    .dataframe tbody tr th:only-of-type {\n",
       "        vertical-align: middle;\n",
       "    }\n",
       "\n",
       "    .dataframe tbody tr th {\n",
       "        vertical-align: top;\n",
       "    }\n",
       "\n",
       "    .dataframe thead th {\n",
       "        text-align: right;\n",
       "    }\n",
       "</style>\n",
       "<table border=\"1\" class=\"dataframe\">\n",
       "  <thead>\n",
       "    <tr style=\"text-align: right;\">\n",
       "      <th></th>\n",
       "      <th>actual</th>\n",
       "      <th>predicted</th>\n",
       "    </tr>\n",
       "    <tr>\n",
       "      <th>userId</th>\n",
       "      <th></th>\n",
       "      <th></th>\n",
       "    </tr>\n",
       "  </thead>\n",
       "  <tbody>\n",
       "    <tr>\n",
       "      <th>575</th>\n",
       "      <td>[2560, 2436, 2566, 2567, 2568, 2571, 2572, 257...</td>\n",
       "      <td>[85025, 168250, 76060, 3758, 5991, 3790, 91542...</td>\n",
       "    </tr>\n",
       "    <tr>\n",
       "      <th>323</th>\n",
       "      <td>[1, 2, 2571, 1037, 527, 17, 19, 22, 110102, 29...</td>\n",
       "      <td>[103483, 32314, 6660, 8383, 81535, 37739, 2278...</td>\n",
       "    </tr>\n",
       "    <tr>\n",
       "      <th>14</th>\n",
       "      <td>[4, 7, 266, 524, 527, 784, 19, 150, 153, 25, 2...</td>\n",
       "      <td>[4403, 56941, 4022, 157172, 104074, 2028, 1350...</td>\n",
       "    </tr>\n",
       "    <tr>\n",
       "      <th>496</th>\n",
       "      <td>[4993, 111362, 2950, 904, 104841, 912, 84374, ...</td>\n",
       "      <td>[47538, 78160, 994, 72171, 64695, 4973, 3317, ...</td>\n",
       "    </tr>\n",
       "    <tr>\n",
       "      <th>531</th>\n",
       "      <td>[4993, 260, 10, 1291, 919, 1961, 2473, 1198, 1...</td>\n",
       "      <td>[6516, 4397, 567, 68952, 4293, 3719, 5247, 418...</td>\n",
       "    </tr>\n",
       "  </tbody>\n",
       "</table>\n",
       "</div>"
      ],
      "text/plain": [
       "                                                   actual  \\\n",
       "userId                                                      \n",
       "575     [2560, 2436, 2566, 2567, 2568, 2571, 2572, 257...   \n",
       "323     [1, 2, 2571, 1037, 527, 17, 19, 22, 110102, 29...   \n",
       "14      [4, 7, 266, 524, 527, 784, 19, 150, 153, 25, 2...   \n",
       "496     [4993, 111362, 2950, 904, 104841, 912, 84374, ...   \n",
       "531     [4993, 260, 10, 1291, 919, 1961, 2473, 1198, 1...   \n",
       "\n",
       "                                                predicted  \n",
       "userId                                                     \n",
       "575     [85025, 168250, 76060, 3758, 5991, 3790, 91542...  \n",
       "323     [103483, 32314, 6660, 8383, 81535, 37739, 2278...  \n",
       "14      [4403, 56941, 4022, 157172, 104074, 2028, 1350...  \n",
       "496     [47538, 78160, 994, 72171, 64695, 4973, 3317, ...  \n",
       "531     [6516, 4397, 567, 68952, 4293, 3719, 5247, 418...  "
      ]
     },
     "execution_count": 62,
     "metadata": {},
     "output_type": "execute_result"
    }
   ],
   "source": [
    "X_res.head()"
   ]
  }
 ],
 "metadata": {
  "kernelspec": {
   "display_name": "Python 3 (ipykernel)",
   "language": "python",
   "name": "python3"
  },
  "language_info": {
   "codemirror_mode": {
    "name": "ipython",
    "version": 3
   },
   "file_extension": ".py",
   "mimetype": "text/x-python",
   "name": "python",
   "nbconvert_exporter": "python",
   "pygments_lexer": "ipython3",
   "version": "3.10.9"
  }
 },
 "nbformat": 4,
 "nbformat_minor": 4
}
